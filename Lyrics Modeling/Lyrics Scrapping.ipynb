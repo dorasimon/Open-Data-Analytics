{
 "cells": [
  {
   "cell_type": "code",
   "execution_count": 7,
   "metadata": {
    "collapsed": true
   },
   "outputs": [],
   "source": [
    "import requests\n",
    "from bs4 import BeautifulSoup\n",
    "from fake_useragent import UserAgent\n",
    "from time import sleep"
   ]
  },
  {
   "cell_type": "code",
   "execution_count": 2,
   "metadata": {
    "collapsed": true
   },
   "outputs": [],
   "source": [
    "albums = []\n",
    "for p in range(1, 21):\n",
    "    url = \"https://www.letssingit.com/albums/popular/{0}\".format(p)\n",
    "    response = requests.get(url)\n",
    "    page = response.text\n",
    "    soup = BeautifulSoup(page, 'lxml')\n",
    "    for a in soup.find_all(class_ = \"high_profile\"):\n",
    "        albums.append(a[\"href\"])"
   ]
  },
  {
   "cell_type": "code",
   "execution_count": 1,
   "metadata": {
    "collapsed": false
   },
   "outputs": [
    {
     "name": "stdout",
     "output_type": "stream",
     "text": [
      "https://www.letssingit.com/ed-sheeran-lyrics-eraser-gzxx75m\n",
      "\n"
     ]
    }
   ],
   "source": [
    "songs = []\n",
    "lyrics = []\n",
    "\n",
    "with open('albums') as f:\n",
    "    for line in f:\n",
    "        \n",
    "        # Ignore the album URLs and store the song URLs\n",
    "        if '-album-lyrics-' in line:\n",
    "            continue \n",
    "        songs.append(line)\n",
    "        \n",
    "        # Make the request\n",
    "        ua = UserAgent()\n",
    "        head = ua.random()\n",
    "        response = requests.get(line, headers = {'User-Agent': head})\n",
    "        \n",
    "        # Get the soup\n",
    "        page = response.text\n",
    "        soup = BeautifulSoup(page, 'lxml')\n",
    "        for a in soup.find_all(id = \"lyrics\"):\n",
    "            lyrics.append(a.text)\n",
    "        \n",
    "        print('Processed Song URL: {}'.format(line))\n",
    "        sleep(1*np.random.random())"
   ]
  }
 ],
 "metadata": {
  "kernelspec": {
   "display_name": "Python 3",
   "language": "python",
   "name": "python3"
  },
  "language_info": {
   "codemirror_mode": {
    "name": "ipython",
    "version": 3
   },
   "file_extension": ".py",
   "mimetype": "text/x-python",
   "name": "python",
   "nbconvert_exporter": "python",
   "pygments_lexer": "ipython3",
   "version": "3.6.0"
  }
 },
 "nbformat": 4,
 "nbformat_minor": 2
}
